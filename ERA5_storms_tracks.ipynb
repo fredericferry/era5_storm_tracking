{
 "cells": [
  {
   "cell_type": "markdown",
   "metadata": {},
   "source": [
    "\n",
    "# Trajectoires de tempêtes dans les réanalyses ERA5\n",
    "\n",
    "Calepin à utiliser pour le tracé de trajectoires de tempêtes remarquables à partir des fichiers \"tempête.txt\" obtenus grâce au programme de tracking automatique du calepin \"ERA5_storms_tracking_auto.ipynb\"."
   ]
  },
  {
   "cell_type": "code",
   "execution_count": null,
   "metadata": {
    "scrolled": false
   },
   "outputs": [],
   "source": [
    "import os\n",
    "\n",
    "import xarray as xr\n",
    "import netCDF4\n",
    "\n",
    "import numpy as np\n",
    "from scipy.ndimage import gaussian_filter\n",
    "\n",
    "from cartopy import config\n",
    "from cartopy.util import add_cyclic_point\n",
    "import cartopy.feature as cfeature\n",
    "import cartopy.crs as ccrs\n",
    "from cartopy.mpl.geoaxes import GeoAxes\n",
    "from cartopy.mpl.ticker import LongitudeFormatter, LatitudeFormatter\n",
    "\n",
    "import matplotlib.pyplot as plt\n",
    "from mpl_toolkits.axes_grid1 import AxesGrid\n",
    "\n",
    "import IPython.display as IPdisplay, matplotlib.font_manager as fm\n",
    "from PIL import Image\n",
    "import glob\n",
    "\n",
    "from tqdm import tqdm"
   ]
  },
  {
   "cell_type": "raw",
   "metadata": {},
   "source": [
    "Liste des tempêtes."
   ]
  },
  {
   "cell_type": "code",
   "execution_count": null,
   "metadata": {
    "scrolled": false
   },
   "outputs": [],
   "source": [
    "storms=['Nov1982', 'Oct1987', 'Herta', 'Viviane', 'Lothar', 'Martin',\n",
    "        'Klaus', 'Xynthia', 'Joachim', 'Zeus', 'Ophelia', 'Eleanor', 'Alex']"
   ]
  },
  {
   "cell_type": "raw",
   "metadata": {},
   "source": [
    "Tracé des trajectoires."
   ]
  },
  {
   "cell_type": "code",
   "execution_count": null,
   "metadata": {
    "scrolled": false
   },
   "outputs": [],
   "source": [
    "projection=ccrs.NearsidePerspective(central_longitude=0.0, central_latitude=45.0)\n",
    "bounds = [(-60, 35, 30, 70)]\n",
    "coast = cfeature.NaturalEarthFeature(category='physical', scale='10m', facecolor='none', name='coastline')\n",
    "                             \n",
    "fig = plt.figure(figsize=(15., 10.))\n",
    "ax = fig.add_subplot(1, 1, 1, projection=projection)\n",
    "ax.set_title('Major storms which affected France tracked in ERA5 reanalysis',loc='center',fontsize=14)\n",
    "ax.add_feature(coast, edgecolor='gray')\n",
    "ax.gridlines()\n",
    "ax.set_extent(*bounds, crs=ccrs.PlateCarree())\n",
    "\n",
    "for storm in storms:\n",
    "    liste_time,liste_lon,liste_lat,liste_pres=np.loadtxt('./txt/'+storm+'.txt',skiprows=0, dtype='U13,float,float,int',unpack=True)\n",
    "    date1=str(liste_time[0])\n",
    "    date2=str(liste_time[-1])\n",
    "    ax.plot(liste_lon,liste_lat, transform=ccrs.PlateCarree(), label=storm+' '+date1+'-'+date2)\n",
    "    ax.text(liste_lon[0]+1, liste_lat[0], storm, verticalalignment='center', horizontalalignment='right',transform=ccrs.PlateCarree())\n",
    "\n",
    "ax.legend(loc=\"upper center\", ncol=3)\n",
    "plt.show()\n",
    "\n",
    "figname='./figs/tracks'\n",
    "fig.savefig(figname+'.png')"
   ]
  },
  {
   "cell_type": "raw",
   "metadata": {},
   "source": [
    "Choix du pas de temps (données horaires dans le fichier texte)."
   ]
  },
  {
   "cell_type": "code",
   "execution_count": null,
   "metadata": {
    "scrolled": false
   },
   "outputs": [],
   "source": [
    "interval=int(input(\"Enter the desired time interval : \"))\n",
    "\n",
    "if not os.path.exists(\"./figs/tracking\"):\n",
    "    os.makedirs(\"./figs/tracking\")"
   ]
  },
  {
   "cell_type": "raw",
   "metadata": {},
   "source": [
    "Tracé des évolutions de la Pmer."
   ]
  },
  {
   "cell_type": "code",
   "execution_count": null,
   "metadata": {
    "scrolled": false
   },
   "outputs": [],
   "source": [
    "for storm in storms:\n",
    "    \n",
    "    liste_time,liste_lon,liste_lat,liste_pres=np.loadtxt('./txt/'+storm+'.txt',skiprows=0,\n",
    "                                                         dtype='U13,float,float,int',unpack=True)\n",
    "\n",
    "    liste_time=liste_time[::interval]\n",
    "    liste_lon=liste_lon[::interval]\n",
    "    liste_lat=liste_lat[::interval]\n",
    "    liste_pres=liste_pres[::interval]\n",
    "    date1=str(liste_time[0])\n",
    "    date2=str(liste_time[-1])\n",
    "\n",
    "    fig = plt.figure(figsize=(15, 8))\n",
    "    ax = fig.add_subplot(1, 1, 1)\n",
    "    ax.set_title(storm,loc='center',fontsize=14)\n",
    "    ax.plot(liste_time,liste_pres, color='red', label=storm)\n",
    "    ax.scatter(liste_time,liste_pres, color='red')\n",
    "    plt.grid()\n",
    "    plt.xlabel('Date', fontsize=12)\n",
    "    plt.ylabel('Mean sea level pressure (hPa)', fontsize=12)\n",
    "    locs, labels = plt.xticks()\n",
    "    plt.setp(labels, rotation=90)\n",
    "    ax.tick_params(axis='x', labelsize=10)\n",
    "    plt.show()\n",
    "    figname='./figs/tracking/'+storm+'_slp_evolution'\n",
    "    fig.savefig(figname+'.png')"
   ]
  },
  {
   "cell_type": "raw",
   "metadata": {},
   "source": [
    "Fonctions de diagnostiques sur le creusement."
   ]
  },
  {
   "cell_type": "code",
   "execution_count": null,
   "metadata": {
    "scrolled": false
   },
   "outputs": [],
   "source": [
    "def calculer_baisse_maximale_pression(pressions):\n",
    "    pression_min = float('inf')\n",
    "    pression_max = float('-inf')\n",
    "    debut_baisse_max = 0\n",
    "    fin_baisse_max = 0\n",
    "    points_baisse_max = 0\n",
    "    points_actuels = 0\n",
    "\n",
    "    for i, pression in enumerate(pressions):\n",
    "        if pression > pression_max:\n",
    "            pression_max = pression\n",
    "            points_actuels = 0\n",
    "        if pression < pression_min:\n",
    "            pression_min = pression\n",
    "            points_actuels += 1\n",
    "            if points_actuels > points_baisse_max:\n",
    "                points_baisse_max = points_actuels\n",
    "                debut_baisse_max = i - points_actuels + 1\n",
    "                fin_baisse_max = i\n",
    "        elif pression == pression_min:\n",
    "            points_actuels += 1\n",
    "        else:\n",
    "            points_actuels = 0\n",
    "\n",
    "    return pression_max - pression_min, points_baisse_max, debut_baisse_max, fin_baisse_max\n",
    "\n",
    "def running_diff(arr, N):\n",
    "    return np.array([arr[i] - arr[i-N] for i in range(N, len(arr))])"
   ]
  },
  {
   "cell_type": "raw",
   "metadata": {},
   "source": [
    "Tracé des évolutions de la Pmer + diagnostiques sur le creusement."
   ]
  },
  {
   "cell_type": "code",
   "execution_count": null,
   "metadata": {
    "scrolled": false
   },
   "outputs": [],
   "source": [
    "for storm in storms:\n",
    "    \n",
    "    liste_time,liste_lon,liste_lat,liste_pres=np.loadtxt('./txt/'+storm+'.txt',skiprows=0,\n",
    "                                                         dtype='U13,float,float,int',unpack=True)\n",
    "\n",
    "    liste_time=liste_time[::interval]\n",
    "    liste_lon=liste_lon[::interval]\n",
    "    liste_lat=liste_lat[::interval]\n",
    "    liste_pres=liste_pres[::interval]\n",
    "    date1=str(liste_time[0])\n",
    "    date2=str(liste_time[-1])\n",
    "    \n",
    "    # Maximum pressure fall\n",
    "    baisse_maximale, points_baisse_max, debut_baisse_max, fin_baisse_max = calculer_baisse_maximale_pression(liste_pres)\n",
    "    # 12h deepening rate\n",
    "    N=int((12/interval))\n",
    "    dr=running_diff(liste_pres, N)\n",
    "    max_dr=np.min(dr)\n",
    "    max_dr_ind=np.argmin(dr)\n",
    "    print(storm)\n",
    "    print(\"Maximum pressure fall (hPa) : \", baisse_maximale)\n",
    "    print(\"Beginning of the deepening phase : \", liste_time[debut_baisse_max])\n",
    "    print(\"End of the deepening phase : \", liste_time[fin_baisse_max])\n",
    "    print(\"Number of elapsed hours during the maximum pressure fall : \", (points_baisse_max*interval)-interval)\n",
    "    print(\"Corresponding mean pressure fall rate in hPa/h : \", baisse_maximale/(points_baisse_max*interval))\n",
    "    print('Maximum instantaneus deepening rate (Bergeron) : ', -max_dr*np.sin(45*np.pi/180)/np.sin(liste_lat[max_dr_ind+int(N/2)]*np.pi/180)/12)\n",
    "    print('Maximum instantaneus deepening rate date : ', liste_time[max_dr_ind+int(N/2)])\n",
    "\n",
    "    fig = plt.figure(figsize=(15, 8))\n",
    "    ax = fig.add_subplot(1, 1, 1)\n",
    "    ax.set_title(storm,loc='center',fontsize=14)\n",
    "    ax.plot(liste_time,liste_pres, color='red', label=storm)\n",
    "    ax.scatter(liste_time,liste_pres, color='red')\n",
    "    plt.grid()\n",
    "    plt.xlabel('Date', fontsize=12)\n",
    "    plt.ylabel('Mean sea level pressure (hPa)', fontsize=12)\n",
    "    locs, labels = plt.xticks()\n",
    "    plt.setp(labels, rotation=90)\n",
    "    ax.tick_params(axis='x', labelsize=10)\n",
    "    plt.show()\n",
    "    figname='./figs/tracking/'+storm+'_slp_evolution'\n",
    "    fig.savefig(figname+'.png')"
   ]
  }
 ],
 "metadata": {
  "kernelspec": {
   "display_name": "Python 3",
   "language": "python",
   "name": "python3"
  },
  "language_info": {
   "codemirror_mode": {
    "name": "ipython",
    "version": 3
   },
   "file_extension": ".py",
   "mimetype": "text/x-python",
   "name": "python",
   "nbconvert_exporter": "python",
   "pygments_lexer": "ipython3",
   "version": "3.7.11"
  }
 },
 "nbformat": 4,
 "nbformat_minor": 1
}
